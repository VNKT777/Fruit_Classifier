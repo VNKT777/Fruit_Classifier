{
  "nbformat": 4,
  "nbformat_minor": 0,
  "metadata": {
    "colab": {
      "name": "FruitClassifier.ipynb",
      "provenance": [],
      "mount_file_id": "13Serp-IKq0s9lflwIgxC1M3oCKqiTOh9",
      "authorship_tag": "ABX9TyNFCa4R/Sv/d/+6p/McnvrK",
      "include_colab_link": true
    },
    "kernelspec": {
      "name": "python3",
      "display_name": "Python 3"
    },
    "accelerator": "GPU"
  },
  "cells": [
    {
      "cell_type": "markdown",
      "metadata": {
        "id": "view-in-github",
        "colab_type": "text"
      },
      "source": [
        "<a href=\"https://colab.research.google.com/github/VNKT777/Fruit_Classifier/blob/main/FruitClassifier.ipynb\" target=\"_parent\"><img src=\"https://colab.research.google.com/assets/colab-badge.svg\" alt=\"Open In Colab\"/></a>"
      ]
    },
    {
      "cell_type": "code",
      "metadata": {
        "colab": {
          "base_uri": "https://localhost:8080/"
        },
        "id": "8FlFMgqcIvZ0",
        "outputId": "ca5667f7-df97-4ebc-bd4c-e93666dab7d2"
      },
      "source": [
        "from __future__ import print_function\r\n",
        "import keras\r\n",
        "from keras.preprocessing.image import ImageDataGenerator\r\n",
        "from keras.models import Sequential\r\n",
        "from keras.layers import Dense, Dropout, Activation, Flatten\r\n",
        "from keras.layers import Conv2D, MaxPooling2D\r\n",
        "import os\r\n",
        "\r\n",
        "num_classes = 81\r\n",
        "img_rows, img_cols = 32, 32\r\n",
        "batch_size = 16\r\n",
        "\r\n",
        "from keras.preprocessing.image import ImageDataGenerator\r\n",
        "\r\n",
        "train_data_dir = '/content/drive/MyDrive/fruits-360/fruits-360/Training'\r\n",
        "validation_data_dir = '/content/drive/MyDrive/fruits-360/fruits-360/Test'\r\n",
        "\r\n",
        "# Let's use some data augmentaiton \r\n",
        "train_datagen = ImageDataGenerator(\r\n",
        "      rescale=1./255,\r\n",
        "      rotation_range=30,\r\n",
        "      width_shift_range=0.3,\r\n",
        "      height_shift_range=0.3,\r\n",
        "      horizontal_flip=True,\r\n",
        "      fill_mode='nearest')\r\n",
        " \r\n",
        "validation_datagen = ImageDataGenerator(rescale=1./255)\r\n",
        " \r\n",
        "train_generator = train_datagen.flow_from_directory(\r\n",
        "        train_data_dir,\r\n",
        "        target_size=(img_rows, img_cols),\r\n",
        "        batch_size=batch_size,\r\n",
        "        class_mode='categorical',\r\n",
        "        shuffle=True)\r\n",
        " \r\n",
        "validation_generator = validation_datagen.flow_from_directory(\r\n",
        "        validation_data_dir,\r\n",
        "        target_size=(img_rows, img_cols),\r\n",
        "        batch_size=batch_size,\r\n",
        "        class_mode='categorical',\r\n",
        "        shuffle=False)"
      ],
      "execution_count": 1,
      "outputs": [
        {
          "output_type": "stream",
          "text": [
            "Found 483 images belonging to 81 classes.\n",
            "Found 0 images belonging to 81 classes.\n"
          ],
          "name": "stdout"
        }
      ]
    },
    {
      "cell_type": "code",
      "metadata": {
        "colab": {
          "base_uri": "https://localhost:8080/"
        },
        "id": "3MZwmb1zSYjb",
        "outputId": "d1c8124b-5f2f-4bf0-b646-408c864b6173"
      },
      "source": [
        "model = Sequential()\r\n",
        "\r\n",
        "# Padding = 'same'  results in padding the input such that\r\n",
        "# the output has the same length as the original input\r\n",
        "model.add(Conv2D(32, (3, 3), padding='same',\r\n",
        "                 input_shape= (img_rows, img_cols, 3)))\r\n",
        "model.add(Activation('relu'))\r\n",
        "model.add(Conv2D(32, (3, 3)))\r\n",
        "model.add(Activation('relu'))\r\n",
        "model.add(MaxPooling2D(pool_size=(2, 2)))\r\n",
        "model.add(Dropout(0.25))\r\n",
        "\r\n",
        "model.add(Conv2D(64, (3, 3), padding='same'))\r\n",
        "model.add(Activation('relu'))\r\n",
        "model.add(Conv2D(64, (3, 3)))\r\n",
        "model.add(Activation('relu'))\r\n",
        "model.add(MaxPooling2D(pool_size=(2, 2)))\r\n",
        "model.add(Dropout(0.25))\r\n",
        "\r\n",
        "model.add(Flatten())\r\n",
        "model.add(Dense(512))\r\n",
        "model.add(Activation('relu'))\r\n",
        "model.add(Dropout(0.5))\r\n",
        "model.add(Dense(num_classes))\r\n",
        "model.add(Activation('softmax'))\r\n",
        "\r\n",
        "# initiate RMSprop optimizer and configure some parameters\r\n",
        "#opt = keras.optimizers.rmsprop(lr=0.0001, decay=1e-6)\r\n",
        "print(model.summary())"
      ],
      "execution_count": 2,
      "outputs": [
        {
          "output_type": "stream",
          "text": [
            "Model: \"sequential\"\n",
            "_________________________________________________________________\n",
            "Layer (type)                 Output Shape              Param #   \n",
            "=================================================================\n",
            "conv2d (Conv2D)              (None, 32, 32, 32)        896       \n",
            "_________________________________________________________________\n",
            "activation (Activation)      (None, 32, 32, 32)        0         \n",
            "_________________________________________________________________\n",
            "conv2d_1 (Conv2D)            (None, 30, 30, 32)        9248      \n",
            "_________________________________________________________________\n",
            "activation_1 (Activation)    (None, 30, 30, 32)        0         \n",
            "_________________________________________________________________\n",
            "max_pooling2d (MaxPooling2D) (None, 15, 15, 32)        0         \n",
            "_________________________________________________________________\n",
            "dropout (Dropout)            (None, 15, 15, 32)        0         \n",
            "_________________________________________________________________\n",
            "conv2d_2 (Conv2D)            (None, 15, 15, 64)        18496     \n",
            "_________________________________________________________________\n",
            "activation_2 (Activation)    (None, 15, 15, 64)        0         \n",
            "_________________________________________________________________\n",
            "conv2d_3 (Conv2D)            (None, 13, 13, 64)        36928     \n",
            "_________________________________________________________________\n",
            "activation_3 (Activation)    (None, 13, 13, 64)        0         \n",
            "_________________________________________________________________\n",
            "max_pooling2d_1 (MaxPooling2 (None, 6, 6, 64)          0         \n",
            "_________________________________________________________________\n",
            "dropout_1 (Dropout)          (None, 6, 6, 64)          0         \n",
            "_________________________________________________________________\n",
            "flatten (Flatten)            (None, 2304)              0         \n",
            "_________________________________________________________________\n",
            "dense (Dense)                (None, 512)               1180160   \n",
            "_________________________________________________________________\n",
            "activation_4 (Activation)    (None, 512)               0         \n",
            "_________________________________________________________________\n",
            "dropout_2 (Dropout)          (None, 512)               0         \n",
            "_________________________________________________________________\n",
            "dense_1 (Dense)              (None, 81)                41553     \n",
            "_________________________________________________________________\n",
            "activation_5 (Activation)    (None, 81)                0         \n",
            "=================================================================\n",
            "Total params: 1,287,281\n",
            "Trainable params: 1,287,281\n",
            "Non-trainable params: 0\n",
            "_________________________________________________________________\n",
            "None\n"
          ],
          "name": "stdout"
        }
      ]
    },
    {
      "cell_type": "markdown",
      "metadata": {
        "id": "28T_thKJRztj"
      },
      "source": [
        "# Training the model"
      ]
    },
    {
      "cell_type": "code",
      "metadata": {
        "colab": {
          "base_uri": "https://localhost:8080/"
        },
        "id": "6VwujtajSd8b",
        "outputId": "a690c5fd-7500-4e09-c291-c9ca5ccda984"
      },
      "source": [
        "from keras.optimizers import RMSprop, SGD\r\n",
        "from keras.callbacks import ModelCheckpoint, EarlyStopping, ReduceLROnPlateau\r\n",
        "\r\n",
        "                     \r\n",
        "checkpoint = ModelCheckpoint(\"/home/deeplearningcv/DeepLearningCV/Trained Models/fruits_fresh_cnn_1.h5\",\r\n",
        "                             monitor=\"loss\",\r\n",
        "                             mode=\"min\",\r\n",
        "                             save_best_only = True,\r\n",
        "                             verbose=1)\r\n",
        "\r\n",
        "earlystop = EarlyStopping(monitor = 'loss', \r\n",
        "                          min_delta = 0, \r\n",
        "                          patience = 3,\r\n",
        "                          verbose = 1,\r\n",
        "                          restore_best_weights = True)\r\n",
        "\r\n",
        "reduce_lr = ReduceLROnPlateau(monitor = 'loss',\r\n",
        "                              factor = 0.2,\r\n",
        "                              patience = 3,\r\n",
        "                              verbose = 1,\r\n",
        "                              min_delta = 0.0001)\r\n",
        "\r\n",
        "# we put our call backs into a callback list\r\n",
        "callbacks = [earlystop, checkpoint, reduce_lr]\r\n",
        "\r\n",
        "# We use a very small learning rate \r\n",
        "model.compile(loss = 'categorical_crossentropy',\r\n",
        "              optimizer = RMSprop(lr = 0.001),\r\n",
        "              metrics = ['accuracy'])\r\n",
        "\r\n",
        "nb_train_samples = 41322\r\n",
        "nb_validation_samples = 13877\r\n",
        "epochs = 10\r\n",
        "\r\n",
        "history = model.fit_generator(\r\n",
        "    train_generator,\r\n",
        "    epochs = epochs,\r\n",
        "    callbacks = callbacks,\r\n",
        "    validation_data = validation_generator,\r\n",
        "    validation_steps = nb_validation_samples // batch_size)"
      ],
      "execution_count": 9,
      "outputs": [
        {
          "output_type": "stream",
          "text": [
            "/usr/local/lib/python3.6/dist-packages/tensorflow/python/keras/engine/training.py:1844: UserWarning: `Model.fit_generator` is deprecated and will be removed in a future version. Please use `Model.fit`, which supports generators.\n",
            "  warnings.warn('`Model.fit_generator` is deprecated and '\n"
          ],
          "name": "stderr"
        },
        {
          "output_type": "stream",
          "text": [
            "Epoch 1/10\n",
            "31/31 [==============================] - 2s 31ms/step - loss: 0.0000e+00 - accuracy: 1.0000\n",
            "\n",
            "Epoch 00001: loss improved from inf to 0.00000, saving model to /home/deeplearningcv/DeepLearningCV/Trained Models/fruits_fresh_cnn_1.h5\n",
            "Epoch 2/10\n",
            "31/31 [==============================] - 1s 32ms/step - loss: 0.0000e+00 - accuracy: 1.0000\n",
            "\n",
            "Epoch 00002: loss did not improve from 0.00000\n",
            "Epoch 3/10\n",
            "31/31 [==============================] - 1s 32ms/step - loss: 0.0000e+00 - accuracy: 1.0000\n",
            "\n",
            "Epoch 00003: loss did not improve from 0.00000\n",
            "Epoch 4/10\n",
            "31/31 [==============================] - 1s 33ms/step - loss: 0.0000e+00 - accuracy: 1.0000\n",
            "Restoring model weights from the end of the best epoch.\n",
            "\n",
            "Epoch 00004: loss did not improve from 0.00000\n",
            "\n",
            "Epoch 00004: ReduceLROnPlateau reducing learning rate to 0.00020000000949949026.\n",
            "Epoch 00004: early stopping\n"
          ],
          "name": "stdout"
        }
      ]
    }
  ]
}